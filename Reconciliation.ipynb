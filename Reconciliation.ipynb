{
  "nbformat": 4,
  "nbformat_minor": 0,
  "metadata": {
    "colab": {
      "provenance": []
    },
    "kernelspec": {
      "name": "python3",
      "display_name": "Python 3"
    },
    "language_info": {
      "name": "python"
    },
    "widgets": {
      "application/vnd.jupyter.widget-state+json": {
        "d4b39c96a4854f62839023e5f9d8fcef": {
          "model_module": "@jupyter-widgets/controls",
          "model_name": "HTMLModel",
          "model_module_version": "1.5.0",
          "state": {
            "_dom_classes": [],
            "_model_module": "@jupyter-widgets/controls",
            "_model_module_version": "1.5.0",
            "_model_name": "HTMLModel",
            "_view_count": null,
            "_view_module": "@jupyter-widgets/controls",
            "_view_module_version": "1.5.0",
            "_view_name": "HTMLView",
            "description": "",
            "description_tooltip": null,
            "layout": "IPY_MODEL_679fe13da68c49ada42082ed69f505d4",
            "placeholder": "​",
            "style": "IPY_MODEL_48f004dd0a614b339cd032e445c0733e",
            "value": "<b>Select the Excel file for Company A:</b>"
          }
        },
        "679fe13da68c49ada42082ed69f505d4": {
          "model_module": "@jupyter-widgets/base",
          "model_name": "LayoutModel",
          "model_module_version": "1.2.0",
          "state": {
            "_model_module": "@jupyter-widgets/base",
            "_model_module_version": "1.2.0",
            "_model_name": "LayoutModel",
            "_view_count": null,
            "_view_module": "@jupyter-widgets/base",
            "_view_module_version": "1.2.0",
            "_view_name": "LayoutView",
            "align_content": null,
            "align_items": null,
            "align_self": null,
            "border": null,
            "bottom": null,
            "display": null,
            "flex": null,
            "flex_flow": null,
            "grid_area": null,
            "grid_auto_columns": null,
            "grid_auto_flow": null,
            "grid_auto_rows": null,
            "grid_column": null,
            "grid_gap": null,
            "grid_row": null,
            "grid_template_areas": null,
            "grid_template_columns": null,
            "grid_template_rows": null,
            "height": null,
            "justify_content": null,
            "justify_items": null,
            "left": null,
            "margin": null,
            "max_height": null,
            "max_width": null,
            "min_height": null,
            "min_width": null,
            "object_fit": null,
            "object_position": null,
            "order": null,
            "overflow": null,
            "overflow_x": null,
            "overflow_y": null,
            "padding": null,
            "right": null,
            "top": null,
            "visibility": null,
            "width": null
          }
        },
        "48f004dd0a614b339cd032e445c0733e": {
          "model_module": "@jupyter-widgets/controls",
          "model_name": "DescriptionStyleModel",
          "model_module_version": "1.5.0",
          "state": {
            "_model_module": "@jupyter-widgets/controls",
            "_model_module_version": "1.5.0",
            "_model_name": "DescriptionStyleModel",
            "_view_count": null,
            "_view_module": "@jupyter-widgets/base",
            "_view_module_version": "1.2.0",
            "_view_name": "StyleView",
            "description_width": ""
          }
        },
        "5042632a418a498a82dcf0215f147946": {
          "model_module": "@jupyter-widgets/controls",
          "model_name": "FileUploadModel",
          "model_module_version": "1.5.0",
          "state": {
            "_counter": 1,
            "_dom_classes": [],
            "_model_module": "@jupyter-widgets/controls",
            "_model_module_version": "1.5.0",
            "_model_name": "FileUploadModel",
            "_view_count": null,
            "_view_module": "@jupyter-widgets/controls",
            "_view_module_version": "1.5.0",
            "_view_name": "FileUploadView",
            "accept": ".xlsx",
            "button_style": "",
            "data": [
              null
            ],
            "description": "Upload",
            "description_tooltip": null,
            "disabled": false,
            "error": "",
            "icon": "upload",
            "layout": "IPY_MODEL_a5f4b507e7a9435292e352a2e2f17ec8",
            "metadata": [
              {
                "name": "Company_A_Large.xlsx",
                "type": "application/vnd.openxmlformats-officedocument.spreadsheetml.sheet",
                "size": 31633,
                "lastModified": 1722968476516
              }
            ],
            "multiple": false,
            "style": "IPY_MODEL_b0489d4dbf104690aa6c27c40ae0f559"
          }
        },
        "a5f4b507e7a9435292e352a2e2f17ec8": {
          "model_module": "@jupyter-widgets/base",
          "model_name": "LayoutModel",
          "model_module_version": "1.2.0",
          "state": {
            "_model_module": "@jupyter-widgets/base",
            "_model_module_version": "1.2.0",
            "_model_name": "LayoutModel",
            "_view_count": null,
            "_view_module": "@jupyter-widgets/base",
            "_view_module_version": "1.2.0",
            "_view_name": "LayoutView",
            "align_content": null,
            "align_items": null,
            "align_self": null,
            "border": null,
            "bottom": null,
            "display": null,
            "flex": null,
            "flex_flow": null,
            "grid_area": null,
            "grid_auto_columns": null,
            "grid_auto_flow": null,
            "grid_auto_rows": null,
            "grid_column": null,
            "grid_gap": null,
            "grid_row": null,
            "grid_template_areas": null,
            "grid_template_columns": null,
            "grid_template_rows": null,
            "height": null,
            "justify_content": null,
            "justify_items": null,
            "left": null,
            "margin": null,
            "max_height": null,
            "max_width": null,
            "min_height": null,
            "min_width": null,
            "object_fit": null,
            "object_position": null,
            "order": null,
            "overflow": null,
            "overflow_x": null,
            "overflow_y": null,
            "padding": null,
            "right": null,
            "top": null,
            "visibility": null,
            "width": null
          }
        },
        "b0489d4dbf104690aa6c27c40ae0f559": {
          "model_module": "@jupyter-widgets/controls",
          "model_name": "ButtonStyleModel",
          "model_module_version": "1.5.0",
          "state": {
            "_model_module": "@jupyter-widgets/controls",
            "_model_module_version": "1.5.0",
            "_model_name": "ButtonStyleModel",
            "_view_count": null,
            "_view_module": "@jupyter-widgets/base",
            "_view_module_version": "1.2.0",
            "_view_name": "StyleView",
            "button_color": null,
            "font_weight": ""
          }
        },
        "5c600d193f834540b0e4cd5692af59cd": {
          "model_module": "@jupyter-widgets/controls",
          "model_name": "HTMLModel",
          "model_module_version": "1.5.0",
          "state": {
            "_dom_classes": [],
            "_model_module": "@jupyter-widgets/controls",
            "_model_module_version": "1.5.0",
            "_model_name": "HTMLModel",
            "_view_count": null,
            "_view_module": "@jupyter-widgets/controls",
            "_view_module_version": "1.5.0",
            "_view_name": "HTMLView",
            "description": "",
            "description_tooltip": null,
            "layout": "IPY_MODEL_e8a3f9af12924ff9b0756d862b6d391c",
            "placeholder": "​",
            "style": "IPY_MODEL_ce2ecc56228d4e3ebd5350aa0f6ff9b1",
            "value": "<b>Select the Excel file for Company B:</b>"
          }
        },
        "e8a3f9af12924ff9b0756d862b6d391c": {
          "model_module": "@jupyter-widgets/base",
          "model_name": "LayoutModel",
          "model_module_version": "1.2.0",
          "state": {
            "_model_module": "@jupyter-widgets/base",
            "_model_module_version": "1.2.0",
            "_model_name": "LayoutModel",
            "_view_count": null,
            "_view_module": "@jupyter-widgets/base",
            "_view_module_version": "1.2.0",
            "_view_name": "LayoutView",
            "align_content": null,
            "align_items": null,
            "align_self": null,
            "border": null,
            "bottom": null,
            "display": null,
            "flex": null,
            "flex_flow": null,
            "grid_area": null,
            "grid_auto_columns": null,
            "grid_auto_flow": null,
            "grid_auto_rows": null,
            "grid_column": null,
            "grid_gap": null,
            "grid_row": null,
            "grid_template_areas": null,
            "grid_template_columns": null,
            "grid_template_rows": null,
            "height": null,
            "justify_content": null,
            "justify_items": null,
            "left": null,
            "margin": null,
            "max_height": null,
            "max_width": null,
            "min_height": null,
            "min_width": null,
            "object_fit": null,
            "object_position": null,
            "order": null,
            "overflow": null,
            "overflow_x": null,
            "overflow_y": null,
            "padding": null,
            "right": null,
            "top": null,
            "visibility": null,
            "width": null
          }
        },
        "ce2ecc56228d4e3ebd5350aa0f6ff9b1": {
          "model_module": "@jupyter-widgets/controls",
          "model_name": "DescriptionStyleModel",
          "model_module_version": "1.5.0",
          "state": {
            "_model_module": "@jupyter-widgets/controls",
            "_model_module_version": "1.5.0",
            "_model_name": "DescriptionStyleModel",
            "_view_count": null,
            "_view_module": "@jupyter-widgets/base",
            "_view_module_version": "1.2.0",
            "_view_name": "StyleView",
            "description_width": ""
          }
        },
        "a0ffcfd4a312486e8ec3b4d0a7ed0144": {
          "model_module": "@jupyter-widgets/controls",
          "model_name": "FileUploadModel",
          "model_module_version": "1.5.0",
          "state": {
            "_counter": 1,
            "_dom_classes": [],
            "_model_module": "@jupyter-widgets/controls",
            "_model_module_version": "1.5.0",
            "_model_name": "FileUploadModel",
            "_view_count": null,
            "_view_module": "@jupyter-widgets/controls",
            "_view_module_version": "1.5.0",
            "_view_name": "FileUploadView",
            "accept": ".xlsx",
            "button_style": "",
            "data": [
              null
            ],
            "description": "Upload",
            "description_tooltip": null,
            "disabled": false,
            "error": "",
            "icon": "upload",
            "layout": "IPY_MODEL_1ef2a1f456dd497cb056272c25105fd9",
            "metadata": [
              {
                "name": "Company_B_Large.xlsx",
                "type": "application/vnd.openxmlformats-officedocument.spreadsheetml.sheet",
                "size": 33295,
                "lastModified": 1722968478265
              }
            ],
            "multiple": false,
            "style": "IPY_MODEL_bae3c2b0638b45318f207c369ff16517"
          }
        },
        "1ef2a1f456dd497cb056272c25105fd9": {
          "model_module": "@jupyter-widgets/base",
          "model_name": "LayoutModel",
          "model_module_version": "1.2.0",
          "state": {
            "_model_module": "@jupyter-widgets/base",
            "_model_module_version": "1.2.0",
            "_model_name": "LayoutModel",
            "_view_count": null,
            "_view_module": "@jupyter-widgets/base",
            "_view_module_version": "1.2.0",
            "_view_name": "LayoutView",
            "align_content": null,
            "align_items": null,
            "align_self": null,
            "border": null,
            "bottom": null,
            "display": null,
            "flex": null,
            "flex_flow": null,
            "grid_area": null,
            "grid_auto_columns": null,
            "grid_auto_flow": null,
            "grid_auto_rows": null,
            "grid_column": null,
            "grid_gap": null,
            "grid_row": null,
            "grid_template_areas": null,
            "grid_template_columns": null,
            "grid_template_rows": null,
            "height": null,
            "justify_content": null,
            "justify_items": null,
            "left": null,
            "margin": null,
            "max_height": null,
            "max_width": null,
            "min_height": null,
            "min_width": null,
            "object_fit": null,
            "object_position": null,
            "order": null,
            "overflow": null,
            "overflow_x": null,
            "overflow_y": null,
            "padding": null,
            "right": null,
            "top": null,
            "visibility": null,
            "width": null
          }
        },
        "bae3c2b0638b45318f207c369ff16517": {
          "model_module": "@jupyter-widgets/controls",
          "model_name": "ButtonStyleModel",
          "model_module_version": "1.5.0",
          "state": {
            "_model_module": "@jupyter-widgets/controls",
            "_model_module_version": "1.5.0",
            "_model_name": "ButtonStyleModel",
            "_view_count": null,
            "_view_module": "@jupyter-widgets/base",
            "_view_module_version": "1.2.0",
            "_view_name": "StyleView",
            "button_color": null,
            "font_weight": ""
          }
        },
        "94f6aa67883b4037a5a020a0d6223bde": {
          "model_module": "@jupyter-widgets/controls",
          "model_name": "ButtonModel",
          "model_module_version": "1.5.0",
          "state": {
            "_dom_classes": [],
            "_model_module": "@jupyter-widgets/controls",
            "_model_module_version": "1.5.0",
            "_model_name": "ButtonModel",
            "_view_count": null,
            "_view_module": "@jupyter-widgets/controls",
            "_view_module_version": "1.5.0",
            "_view_name": "ButtonView",
            "button_style": "",
            "description": "Reconcile",
            "disabled": false,
            "icon": "",
            "layout": "IPY_MODEL_a9f7f6d5c25f40a6aecc130c52d9f6bb",
            "style": "IPY_MODEL_59324be1d82446acb8e741f77652227c",
            "tooltip": ""
          }
        },
        "a9f7f6d5c25f40a6aecc130c52d9f6bb": {
          "model_module": "@jupyter-widgets/base",
          "model_name": "LayoutModel",
          "model_module_version": "1.2.0",
          "state": {
            "_model_module": "@jupyter-widgets/base",
            "_model_module_version": "1.2.0",
            "_model_name": "LayoutModel",
            "_view_count": null,
            "_view_module": "@jupyter-widgets/base",
            "_view_module_version": "1.2.0",
            "_view_name": "LayoutView",
            "align_content": null,
            "align_items": null,
            "align_self": null,
            "border": null,
            "bottom": null,
            "display": null,
            "flex": null,
            "flex_flow": null,
            "grid_area": null,
            "grid_auto_columns": null,
            "grid_auto_flow": null,
            "grid_auto_rows": null,
            "grid_column": null,
            "grid_gap": null,
            "grid_row": null,
            "grid_template_areas": null,
            "grid_template_columns": null,
            "grid_template_rows": null,
            "height": null,
            "justify_content": null,
            "justify_items": null,
            "left": null,
            "margin": null,
            "max_height": null,
            "max_width": null,
            "min_height": null,
            "min_width": null,
            "object_fit": null,
            "object_position": null,
            "order": null,
            "overflow": null,
            "overflow_x": null,
            "overflow_y": null,
            "padding": null,
            "right": null,
            "top": null,
            "visibility": null,
            "width": null
          }
        },
        "59324be1d82446acb8e741f77652227c": {
          "model_module": "@jupyter-widgets/controls",
          "model_name": "ButtonStyleModel",
          "model_module_version": "1.5.0",
          "state": {
            "_model_module": "@jupyter-widgets/controls",
            "_model_module_version": "1.5.0",
            "_model_name": "ButtonStyleModel",
            "_view_count": null,
            "_view_module": "@jupyter-widgets/base",
            "_view_module_version": "1.2.0",
            "_view_name": "StyleView",
            "button_color": null,
            "font_weight": ""
          }
        },
        "89463296c62f420c8f8c298a79a83f72": {
          "model_module": "@jupyter-widgets/output",
          "model_name": "OutputModel",
          "model_module_version": "1.0.0",
          "state": {
            "_dom_classes": [],
            "_model_module": "@jupyter-widgets/output",
            "_model_module_version": "1.0.0",
            "_model_name": "OutputModel",
            "_view_count": null,
            "_view_module": "@jupyter-widgets/output",
            "_view_module_version": "1.0.0",
            "_view_name": "OutputView",
            "layout": "IPY_MODEL_b2d5ad210eaf4f52809e7f51fc4a40db",
            "msg_id": "",
            "outputs": [
              {
                "output_type": "stream",
                "name": "stderr",
                "text": [
                  "<ipython-input-1-6f8be51218f0>:51: UserWarning: Could not infer format, so each element will be parsed individually, falling back to `dateutil`. To ensure parsing is consistent and as-expected, please specify a format.\n",
                  "  intercompany_a['Date'] = pd.to_datetime(intercompany_a['Date'])\n"
                ]
              },
              {
                "output_type": "display_data",
                "data": {
                  "text/plain": "HTML(value='<b>Discrepancies file saved to:</b> Discrepancies.xlsx')",
                  "application/vnd.jupyter.widget-view+json": {
                    "version_major": 2,
                    "version_minor": 0,
                    "model_id": "f118f61a34e34e5caeaa831ce725ea13"
                  }
                },
                "metadata": {}
              },
              {
                "output_type": "display_data",
                "data": {
                  "text/plain": "HTML(value='<b>Reconciled file saved to:</b> Reconciled.xlsx')",
                  "application/vnd.jupyter.widget-view+json": {
                    "version_major": 2,
                    "version_minor": 0,
                    "model_id": "e916c4b69499440795f1db1aa32c7158"
                  }
                },
                "metadata": {}
              }
            ]
          }
        },
        "b2d5ad210eaf4f52809e7f51fc4a40db": {
          "model_module": "@jupyter-widgets/base",
          "model_name": "LayoutModel",
          "model_module_version": "1.2.0",
          "state": {
            "_model_module": "@jupyter-widgets/base",
            "_model_module_version": "1.2.0",
            "_model_name": "LayoutModel",
            "_view_count": null,
            "_view_module": "@jupyter-widgets/base",
            "_view_module_version": "1.2.0",
            "_view_name": "LayoutView",
            "align_content": null,
            "align_items": null,
            "align_self": null,
            "border": null,
            "bottom": null,
            "display": null,
            "flex": null,
            "flex_flow": null,
            "grid_area": null,
            "grid_auto_columns": null,
            "grid_auto_flow": null,
            "grid_auto_rows": null,
            "grid_column": null,
            "grid_gap": null,
            "grid_row": null,
            "grid_template_areas": null,
            "grid_template_columns": null,
            "grid_template_rows": null,
            "height": null,
            "justify_content": null,
            "justify_items": null,
            "left": null,
            "margin": null,
            "max_height": null,
            "max_width": null,
            "min_height": null,
            "min_width": null,
            "object_fit": null,
            "object_position": null,
            "order": null,
            "overflow": null,
            "overflow_x": null,
            "overflow_y": null,
            "padding": null,
            "right": null,
            "top": null,
            "visibility": null,
            "width": null
          }
        },
        "f118f61a34e34e5caeaa831ce725ea13": {
          "model_module": "@jupyter-widgets/controls",
          "model_name": "HTMLModel",
          "model_module_version": "1.5.0",
          "state": {
            "_dom_classes": [],
            "_model_module": "@jupyter-widgets/controls",
            "_model_module_version": "1.5.0",
            "_model_name": "HTMLModel",
            "_view_count": null,
            "_view_module": "@jupyter-widgets/controls",
            "_view_module_version": "1.5.0",
            "_view_name": "HTMLView",
            "description": "",
            "description_tooltip": null,
            "layout": "IPY_MODEL_e88e296240744277a08864ae947dc6ab",
            "placeholder": "​",
            "style": "IPY_MODEL_6d4c814a8f014f5a8b43b5493e9e2774",
            "value": "<b>Discrepancies file saved to:</b> Discrepancies.xlsx"
          }
        },
        "e88e296240744277a08864ae947dc6ab": {
          "model_module": "@jupyter-widgets/base",
          "model_name": "LayoutModel",
          "model_module_version": "1.2.0",
          "state": {
            "_model_module": "@jupyter-widgets/base",
            "_model_module_version": "1.2.0",
            "_model_name": "LayoutModel",
            "_view_count": null,
            "_view_module": "@jupyter-widgets/base",
            "_view_module_version": "1.2.0",
            "_view_name": "LayoutView",
            "align_content": null,
            "align_items": null,
            "align_self": null,
            "border": null,
            "bottom": null,
            "display": null,
            "flex": null,
            "flex_flow": null,
            "grid_area": null,
            "grid_auto_columns": null,
            "grid_auto_flow": null,
            "grid_auto_rows": null,
            "grid_column": null,
            "grid_gap": null,
            "grid_row": null,
            "grid_template_areas": null,
            "grid_template_columns": null,
            "grid_template_rows": null,
            "height": null,
            "justify_content": null,
            "justify_items": null,
            "left": null,
            "margin": null,
            "max_height": null,
            "max_width": null,
            "min_height": null,
            "min_width": null,
            "object_fit": null,
            "object_position": null,
            "order": null,
            "overflow": null,
            "overflow_x": null,
            "overflow_y": null,
            "padding": null,
            "right": null,
            "top": null,
            "visibility": null,
            "width": null
          }
        },
        "6d4c814a8f014f5a8b43b5493e9e2774": {
          "model_module": "@jupyter-widgets/controls",
          "model_name": "DescriptionStyleModel",
          "model_module_version": "1.5.0",
          "state": {
            "_model_module": "@jupyter-widgets/controls",
            "_model_module_version": "1.5.0",
            "_model_name": "DescriptionStyleModel",
            "_view_count": null,
            "_view_module": "@jupyter-widgets/base",
            "_view_module_version": "1.2.0",
            "_view_name": "StyleView",
            "description_width": ""
          }
        },
        "e916c4b69499440795f1db1aa32c7158": {
          "model_module": "@jupyter-widgets/controls",
          "model_name": "HTMLModel",
          "model_module_version": "1.5.0",
          "state": {
            "_dom_classes": [],
            "_model_module": "@jupyter-widgets/controls",
            "_model_module_version": "1.5.0",
            "_model_name": "HTMLModel",
            "_view_count": null,
            "_view_module": "@jupyter-widgets/controls",
            "_view_module_version": "1.5.0",
            "_view_name": "HTMLView",
            "description": "",
            "description_tooltip": null,
            "layout": "IPY_MODEL_a8382ec1e56c49a3ad921390982643a9",
            "placeholder": "​",
            "style": "IPY_MODEL_2843b1f47c1c4ca8862f4eb9c287d786",
            "value": "<b>Reconciled file saved to:</b> Reconciled.xlsx"
          }
        },
        "a8382ec1e56c49a3ad921390982643a9": {
          "model_module": "@jupyter-widgets/base",
          "model_name": "LayoutModel",
          "model_module_version": "1.2.0",
          "state": {
            "_model_module": "@jupyter-widgets/base",
            "_model_module_version": "1.2.0",
            "_model_name": "LayoutModel",
            "_view_count": null,
            "_view_module": "@jupyter-widgets/base",
            "_view_module_version": "1.2.0",
            "_view_name": "LayoutView",
            "align_content": null,
            "align_items": null,
            "align_self": null,
            "border": null,
            "bottom": null,
            "display": null,
            "flex": null,
            "flex_flow": null,
            "grid_area": null,
            "grid_auto_columns": null,
            "grid_auto_flow": null,
            "grid_auto_rows": null,
            "grid_column": null,
            "grid_gap": null,
            "grid_row": null,
            "grid_template_areas": null,
            "grid_template_columns": null,
            "grid_template_rows": null,
            "height": null,
            "justify_content": null,
            "justify_items": null,
            "left": null,
            "margin": null,
            "max_height": null,
            "max_width": null,
            "min_height": null,
            "min_width": null,
            "object_fit": null,
            "object_position": null,
            "order": null,
            "overflow": null,
            "overflow_x": null,
            "overflow_y": null,
            "padding": null,
            "right": null,
            "top": null,
            "visibility": null,
            "width": null
          }
        },
        "2843b1f47c1c4ca8862f4eb9c287d786": {
          "model_module": "@jupyter-widgets/controls",
          "model_name": "DescriptionStyleModel",
          "model_module_version": "1.5.0",
          "state": {
            "_model_module": "@jupyter-widgets/controls",
            "_model_module_version": "1.5.0",
            "_model_name": "DescriptionStyleModel",
            "_view_count": null,
            "_view_module": "@jupyter-widgets/base",
            "_view_module_version": "1.2.0",
            "_view_name": "StyleView",
            "description_width": ""
          }
        }
      }
    }
  },
  "cells": [
    {
      "cell_type": "code",
      "execution_count": null,
      "metadata": {
        "colab": {
          "base_uri": "https://localhost:8080/"
        },
        "id": "UTI8N4fB8jAd",
        "outputId": "57e8f9e8-3d1f-4232-d12f-7289812738f0"
      },
      "outputs": [
        {
          "output_type": "stream",
          "name": "stdout",
          "text": [
            "Requirement already satisfied: pandas in /usr/local/lib/python3.10/dist-packages (2.1.4)\n",
            "Requirement already satisfied: openpyxl in /usr/local/lib/python3.10/dist-packages (3.1.5)\n",
            "\u001b[31mERROR: Could not find a version that satisfies the requirement tkinter (from versions: none)\u001b[0m\u001b[31m\n",
            "\u001b[0m\u001b[31mERROR: No matching distribution found for tkinter\u001b[0m\u001b[31m\n",
            "\u001b[0m"
          ]
        }
      ],
      "source": [
        "!pip install pandas openpyxl tkinter\n"
      ]
    },
    {
      "cell_type": "code",
      "source": [
        "import pandas as pd\n",
        "import ipywidgets as widgets\n",
        "from IPython.display import display\n",
        "from ipywidgets import FileUpload, Button, Output\n",
        "\n",
        "# Function to handle file upload\n",
        "def handle_file_upload(change, company):\n",
        "    uploaded_file = change['new']\n",
        "    if uploaded_file:\n",
        "        file_content = uploaded_file[next(iter(uploaded_file))]\n",
        "        if company == 'A':\n",
        "            global df_a\n",
        "            df_a = pd.read_excel(file_content['content'])\n",
        "        elif company == 'B':\n",
        "            global df_b\n",
        "            df_b = pd.read_excel(file_content['content'])\n",
        "        output.append_stdout(f\"{company} file uploaded successfully.\\n\")\n",
        "\n",
        "# Create file upload widgets\n",
        "file_upload_a = FileUpload(accept='.xlsx', multiple=False)\n",
        "file_upload_b = FileUpload(accept='.xlsx', multiple=False)\n",
        "\n",
        "# Bind the file upload handler\n",
        "file_upload_a.observe(lambda change: handle_file_upload(change, 'A'), names='value')\n",
        "file_upload_b.observe(lambda change: handle_file_upload(change, 'B'), names='value')\n",
        "\n",
        "# Display file upload widgets\n",
        "display(widgets.HTML(\"<b>Select the Excel file for Company A:</b>\"), file_upload_a)\n",
        "display(widgets.HTML(\"<b>Select the Excel file for Company B:</b>\"), file_upload_b)\n",
        "\n",
        "# Create button for reconciliation\n",
        "reconcile_button = Button(description=\"Reconcile\")\n",
        "output = Output()\n",
        "\n",
        "# Reconciliation logic\n",
        "def reconcile_files(b):\n",
        "    with output:\n",
        "        output.clear_output()\n",
        "        if 'df_a' in globals() and 'df_b' in globals():\n",
        "            # Ensure 'Debit' and 'Credit' columns are filled with 0s where NaN\n",
        "            df_a['Debit'] = df_a['Debit'].fillna(0)\n",
        "            df_a['Credit'] = df_a['Credit'].fillna(0)\n",
        "            df_b['Debit'] = df_b['Debit'].fillna(0)\n",
        "            df_b['Credit'] = df_b['Credit'].fillna(0)\n",
        "\n",
        "            # Filter intercompany transactions\n",
        "            intercompany_a = df_a[df_a['Description'].str.contains('Company B', case=False, na=False)]\n",
        "            intercompany_b = df_b[df_b['Description'].str.contains('Company A', case=False, na=False)]\n",
        "\n",
        "            # Convert date columns to datetime\n",
        "            intercompany_a['Date'] = pd.to_datetime(intercompany_a['Date'])\n",
        "            intercompany_b['Date'] = pd.to_datetime(intercompany_b['Date'])\n",
        "\n",
        "            # Merge data on Date and Description to find matches\n",
        "            reconciliation = pd.merge(intercompany_a, intercompany_b, on=['Date', 'Description'], suffixes=('_A', '_B'), how='outer')\n",
        "\n",
        "            # Identify discrepancies\n",
        "            reconciliation['Debit_Diff'] = reconciliation['Debit_A'].fillna(0) - reconciliation['Debit_B'].fillna(0)\n",
        "            reconciliation['Credit_Diff'] = reconciliation['Credit_A'].fillna(0) - reconciliation['Credit_B'].fillna(0)\n",
        "            reconciliation['Reconciled'] = (reconciliation['Debit_Diff'] == 0) & (reconciliation['Credit_Diff'] == 0)\n",
        "\n",
        "            # Split into discrepancies and reconciled\n",
        "            discrepancies = reconciliation[~reconciliation['Reconciled']]\n",
        "            reconciled = reconciliation[reconciliation['Reconciled']]\n",
        "\n",
        "            # Save the files\n",
        "            discrepancies_file_path = 'Discrepancies.xlsx'\n",
        "            reconciled_file_path = 'Reconciled.xlsx'\n",
        "            discrepancies.to_excel(discrepancies_file_path, index=False)\n",
        "            reconciled.to_excel(reconciled_file_path, index=False)\n",
        "\n",
        "            display(widgets.HTML(f\"<b>Discrepancies file saved to:</b> {discrepancies_file_path}\"))\n",
        "            display(widgets.HTML(f\"<b>Reconciled file saved to:</b> {reconciled_file_path}\"))\n",
        "        else:\n",
        "            print(\"Please upload both files before reconciliation.\")\n",
        "\n",
        "# Bind the button to the reconciliation logic\n",
        "reconcile_button.on_click(reconcile_files)\n",
        "\n",
        "# Display the button and output\n",
        "display(reconcile_button, output)\n"
      ],
      "metadata": {
        "id": "cXeasKG39OtF",
        "colab": {
          "base_uri": "https://localhost:8080/",
          "height": 368,
          "referenced_widgets": [
            "d4b39c96a4854f62839023e5f9d8fcef",
            "679fe13da68c49ada42082ed69f505d4",
            "48f004dd0a614b339cd032e445c0733e",
            "5042632a418a498a82dcf0215f147946",
            "a5f4b507e7a9435292e352a2e2f17ec8",
            "b0489d4dbf104690aa6c27c40ae0f559",
            "5c600d193f834540b0e4cd5692af59cd",
            "e8a3f9af12924ff9b0756d862b6d391c",
            "ce2ecc56228d4e3ebd5350aa0f6ff9b1",
            "a0ffcfd4a312486e8ec3b4d0a7ed0144",
            "1ef2a1f456dd497cb056272c25105fd9",
            "bae3c2b0638b45318f207c369ff16517",
            "94f6aa67883b4037a5a020a0d6223bde",
            "a9f7f6d5c25f40a6aecc130c52d9f6bb",
            "59324be1d82446acb8e741f77652227c",
            "89463296c62f420c8f8c298a79a83f72",
            "b2d5ad210eaf4f52809e7f51fc4a40db",
            "f118f61a34e34e5caeaa831ce725ea13",
            "e88e296240744277a08864ae947dc6ab",
            "6d4c814a8f014f5a8b43b5493e9e2774",
            "e916c4b69499440795f1db1aa32c7158",
            "a8382ec1e56c49a3ad921390982643a9",
            "2843b1f47c1c4ca8862f4eb9c287d786"
          ]
        },
        "outputId": "b8489fff-fc18-425c-fd05-173093a57c20"
      },
      "execution_count": null,
      "outputs": [
        {
          "output_type": "display_data",
          "data": {
            "text/plain": [
              "HTML(value='<b>Select the Excel file for Company A:</b>')"
            ],
            "application/vnd.jupyter.widget-view+json": {
              "version_major": 2,
              "version_minor": 0,
              "model_id": "d4b39c96a4854f62839023e5f9d8fcef"
            }
          },
          "metadata": {}
        },
        {
          "output_type": "display_data",
          "data": {
            "text/plain": [
              "FileUpload(value={}, accept='.xlsx', description='Upload')"
            ],
            "application/vnd.jupyter.widget-view+json": {
              "version_major": 2,
              "version_minor": 0,
              "model_id": "5042632a418a498a82dcf0215f147946"
            }
          },
          "metadata": {}
        },
        {
          "output_type": "display_data",
          "data": {
            "text/plain": [
              "HTML(value='<b>Select the Excel file for Company B:</b>')"
            ],
            "application/vnd.jupyter.widget-view+json": {
              "version_major": 2,
              "version_minor": 0,
              "model_id": "5c600d193f834540b0e4cd5692af59cd"
            }
          },
          "metadata": {}
        },
        {
          "output_type": "display_data",
          "data": {
            "text/plain": [
              "FileUpload(value={}, accept='.xlsx', description='Upload')"
            ],
            "application/vnd.jupyter.widget-view+json": {
              "version_major": 2,
              "version_minor": 0,
              "model_id": "a0ffcfd4a312486e8ec3b4d0a7ed0144"
            }
          },
          "metadata": {}
        },
        {
          "output_type": "display_data",
          "data": {
            "text/plain": [
              "Button(description='Reconcile', style=ButtonStyle())"
            ],
            "application/vnd.jupyter.widget-view+json": {
              "version_major": 2,
              "version_minor": 0,
              "model_id": "94f6aa67883b4037a5a020a0d6223bde"
            }
          },
          "metadata": {}
        },
        {
          "output_type": "display_data",
          "data": {
            "text/plain": [
              "Output()"
            ],
            "application/vnd.jupyter.widget-view+json": {
              "version_major": 2,
              "version_minor": 0,
              "model_id": "89463296c62f420c8f8c298a79a83f72"
            }
          },
          "metadata": {}
        },
        {
          "output_type": "stream",
          "name": "stderr",
          "text": [
            "<ipython-input-1-6f8be51218f0>:13: FutureWarning: Passing bytes to 'read_excel' is deprecated and will be removed in a future version. To read from a byte string, wrap it in a `BytesIO` object.\n",
            "  df_a = pd.read_excel(file_content['content'])\n",
            "<ipython-input-1-6f8be51218f0>:16: FutureWarning: Passing bytes to 'read_excel' is deprecated and will be removed in a future version. To read from a byte string, wrap it in a `BytesIO` object.\n",
            "  df_b = pd.read_excel(file_content['content'])\n"
          ]
        }
      ]
    },
    {
      "cell_type": "code",
      "source": [],
      "metadata": {
        "id": "w3N3HEVc9R2Z"
      },
      "execution_count": null,
      "outputs": []
    }
  ]
}